{
 "cells": [
  {
   "cell_type": "markdown",
   "metadata": {},
   "source": [
    "# Python connection with MySQL"
   ]
  },
  {
   "cell_type": "markdown",
   "metadata": {},
   "source": [
    "### Create database"
   ]
  },
  {
   "cell_type": "code",
   "execution_count": null,
   "metadata": {},
   "outputs": [],
   "source": [
    "import mysql.connector as conn\n",
    "conn = conn.connect(host='localhost', user = 'root', password = 'password')\n",
    "cur = conn.cursor()\n",
    "cur.execute('CREATE DATABASE PYDB')\n",
    "cur.close()\n",
    "conn.close()"
   ]
  },
  {
   "cell_type": "markdown",
   "metadata": {},
   "source": [
    "### Show databases"
   ]
  },
  {
   "cell_type": "code",
   "execution_count": 1,
   "metadata": {},
   "outputs": [
    {
     "name": "stdout",
     "output_type": "stream",
     "text": [
      "[('bigdata',), ('db',), ('information_schema',), ('mysql',), ('newschema',), ('performance_schema',), ('pydb',), ('sys',)]\n"
     ]
    }
   ],
   "source": [
    "import mysql.connector as conn\n",
    "conn = conn.connect(host='localhost', user = 'root', password = 'M@rs6277')\n",
    "cur = conn.cursor()\n",
    "cur.execute('SHOW DATABASES')\n",
    "print(cur.fetchall())\n",
    "cur.close()\n",
    "conn.close()"
   ]
  },
  {
   "cell_type": "markdown",
   "metadata": {},
   "source": [
    "### Create table"
   ]
  },
  {
   "cell_type": "code",
   "execution_count": 5,
   "metadata": {},
   "outputs": [],
   "source": [
    "import mysql.connector as conn\n",
    "conn = conn.connect(host='localhost', user = 'root', password = 'M@rs6277', db = 'PYDB')\n",
    "cur = conn.cursor()\n",
    "cur.execute('''CREATE TABLE `PYTB`(ID INT, NAME VARCHAR(20), DOB TIMESTAMP) ''')\n",
    "cur.close()\n",
    "conn.close()"
   ]
  },
  {
   "cell_type": "markdown",
   "metadata": {},
   "source": [
    "### Show table"
   ]
  },
  {
   "cell_type": "code",
   "execution_count": 17,
   "metadata": {},
   "outputs": [
    {
     "name": "stdout",
     "output_type": "stream",
     "text": [
      "[('pytb',)]\n"
     ]
    }
   ],
   "source": [
    "import mysql.connector as conn\n",
    "conn = conn.connect(host='localhost', user = 'root', password = 'M@rs6277', db = 'PYDB')\n",
    "cur = conn.cursor()\n",
    "cur.execute('''SHOW TABLES''')\n",
    "print(cur.fetchall())\n",
    "cur.close()\n",
    "conn.close()"
   ]
  },
  {
   "cell_type": "markdown",
   "metadata": {},
   "source": [
    "### INSERT INTO TABLE"
   ]
  },
  {
   "cell_type": "code",
   "execution_count": 12,
   "metadata": {},
   "outputs": [],
   "source": [
    "import mysql.connector as conn\n",
    "conn = conn.connect(host='localhost', user = 'root', password = 'M@rs6277', db = 'PYDB')\n",
    "cur = conn.cursor()\n",
    "cur.execute(''' INSERT INTO PYTB(ID, NAME, DOB) VALUES(1, 'AYAN', 20201116),\n",
    "                                                      (2, 'NUMAN', 20201002),\n",
    "                                                      (3,'HAROON', 20201003)''')\n",
    "# print(cur.fetchall())\n",
    "conn.commit()\n",
    "cur.close()\n",
    "conn.close()"
   ]
  },
  {
   "cell_type": "markdown",
   "metadata": {},
   "source": [
    "### SELECT * FROM TABLE"
   ]
  },
  {
   "cell_type": "code",
   "execution_count": 13,
   "metadata": {},
   "outputs": [
    {
     "name": "stdout",
     "output_type": "stream",
     "text": [
      "(1, 'AYAN', datetime.datetime(2020, 11, 16, 0, 0))\n",
      "(2, 'NUMAN', datetime.datetime(2020, 10, 2, 0, 0))\n",
      "(3, 'HAROON', datetime.datetime(2020, 10, 3, 0, 0))\n"
     ]
    }
   ],
   "source": [
    "import mysql.connector as conn\n",
    "conn = conn.connect(host='localhost', user = 'root', password = 'M@rs6277', db = 'PYDB')\n",
    "cur = conn.cursor()\n",
    "cur.execute('SELECT * FROM PYTB')\n",
    "for i in cur.fetchall():\n",
    "    print(i)\n",
    "cur.close()\n",
    "conn.close()"
   ]
  },
  {
   "cell_type": "code",
   "execution_count": 14,
   "metadata": {},
   "outputs": [],
   "source": [
    "import mysql.connector as conn\n",
    "conn = conn.connect(host='localhost', user = 'root', password = 'M@rs6277', db = 'PYDB')\n",
    "cur = conn.cursor()\n",
    "cur.execute('SELECT * FROM PYTB')\n",
    "data = cur.fetchall()\n",
    "cur.close()\n",
    "conn.close()"
   ]
  },
  {
   "cell_type": "code",
   "execution_count": 15,
   "metadata": {},
   "outputs": [
    {
     "data": {
      "text/plain": [
       "[(1, 'AYAN', datetime.datetime(2020, 11, 16, 0, 0)),\n",
       " (2, 'NUMAN', datetime.datetime(2020, 10, 2, 0, 0)),\n",
       " (3, 'HAROON', datetime.datetime(2020, 10, 3, 0, 0))]"
      ]
     },
     "execution_count": 15,
     "metadata": {},
     "output_type": "execute_result"
    }
   ],
   "source": [
    "data"
   ]
  },
  {
   "cell_type": "code",
   "execution_count": 16,
   "metadata": {},
   "outputs": [
    {
     "name": "stdout",
     "output_type": "stream",
     "text": [
      "(1, 'AYAN', datetime.datetime(2020, 11, 16, 0, 0))\n",
      "(2, 'NUMAN', datetime.datetime(2020, 10, 2, 0, 0))\n",
      "(3, 'HAROON', datetime.datetime(2020, 10, 3, 0, 0))\n"
     ]
    }
   ],
   "source": [
    "for i in data:\n",
    "    print(i)"
   ]
  },
  {
   "cell_type": "code",
   "execution_count": 19,
   "metadata": {},
   "outputs": [],
   "source": [
    "import pandas as pd"
   ]
  },
  {
   "cell_type": "code",
   "execution_count": 21,
   "metadata": {},
   "outputs": [
    {
     "data": {
      "text/html": [
       "<div>\n",
       "<style scoped>\n",
       "    .dataframe tbody tr th:only-of-type {\n",
       "        vertical-align: middle;\n",
       "    }\n",
       "\n",
       "    .dataframe tbody tr th {\n",
       "        vertical-align: top;\n",
       "    }\n",
       "\n",
       "    .dataframe thead th {\n",
       "        text-align: right;\n",
       "    }\n",
       "</style>\n",
       "<table border=\"1\" class=\"dataframe\">\n",
       "  <thead>\n",
       "    <tr style=\"text-align: right;\">\n",
       "      <th></th>\n",
       "      <th>ID</th>\n",
       "      <th>Name</th>\n",
       "      <th>DOB</th>\n",
       "    </tr>\n",
       "  </thead>\n",
       "  <tbody>\n",
       "    <tr>\n",
       "      <th>0</th>\n",
       "      <td>1</td>\n",
       "      <td>AYAN</td>\n",
       "      <td>2020-11-16</td>\n",
       "    </tr>\n",
       "    <tr>\n",
       "      <th>1</th>\n",
       "      <td>2</td>\n",
       "      <td>NUMAN</td>\n",
       "      <td>2020-10-02</td>\n",
       "    </tr>\n",
       "    <tr>\n",
       "      <th>2</th>\n",
       "      <td>3</td>\n",
       "      <td>HAROON</td>\n",
       "      <td>2020-10-03</td>\n",
       "    </tr>\n",
       "  </tbody>\n",
       "</table>\n",
       "</div>"
      ],
      "text/plain": [
       "   ID    Name        DOB\n",
       "0   1    AYAN 2020-11-16\n",
       "1   2   NUMAN 2020-10-02\n",
       "2   3  HAROON 2020-10-03"
      ]
     },
     "execution_count": 21,
     "metadata": {},
     "output_type": "execute_result"
    }
   ],
   "source": [
    "df = pd.DataFrame(data, columns = ['ID', 'Name', 'DOB'])\n",
    "df"
   ]
  },
  {
   "cell_type": "code",
   "execution_count": 22,
   "metadata": {},
   "outputs": [
    {
     "data": {
      "text/plain": [
       "ID               int64\n",
       "Name            object\n",
       "DOB     datetime64[ns]\n",
       "dtype: object"
      ]
     },
     "execution_count": 22,
     "metadata": {},
     "output_type": "execute_result"
    }
   ],
   "source": [
    "df.dtypes"
   ]
  },
  {
   "cell_type": "code",
   "execution_count": null,
   "metadata": {},
   "outputs": [],
   "source": []
  }
 ],
 "metadata": {
  "kernelspec": {
   "display_name": "Python 3",
   "language": "python",
   "name": "python3"
  },
  "language_info": {
   "codemirror_mode": {
    "name": "ipython",
    "version": 3
   },
   "file_extension": ".py",
   "mimetype": "text/x-python",
   "name": "python",
   "nbconvert_exporter": "python",
   "pygments_lexer": "ipython3",
   "version": "3.7.6"
  }
 },
 "nbformat": 4,
 "nbformat_minor": 4
}
